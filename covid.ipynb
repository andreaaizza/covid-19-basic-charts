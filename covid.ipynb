{
 "cells": [
  {
   "cell_type": "markdown",
   "metadata": {},
   "source": [
    "## Some charts about COVID-19 \n",
    "Provided daily via Telegram channel: https://t.me/covid19charts. You can subscribe and receive automatic updates."
   ]
  },
  {
   "cell_type": "markdown",
   "metadata": {},
   "source": [
    "Some basics charts about COVID-19 from https://github.com/CSSEGISandData/COVID-19.git\n",
    "**Cumulative, daily and percentage** charts on **Region/Country** with more than **500 Confirmed**. "
   ]
  },
  {
   "cell_type": "markdown",
   "metadata": {},
   "source": [
    "Code available at https://github.com/andreaaizza/covid-19-basic-charts"
   ]
  },
  {
   "cell_type": "code",
   "execution_count": null,
   "metadata": {},
   "outputs": [],
   "source": [
    "import pandas as pd\n",
    "df_c = pd.read_csv(\n",
    "    \"./COVID-19/csse_covid_19_data/csse_covid_19_time_series/time_series_19-covid-Confirmed.csv\")\n",
    "df_c=df_c.drop(columns=['Lat','Long'])\n",
    "df_c=df_c.groupby('Country/Region').sum()"
   ]
  },
  {
   "cell_type": "code",
   "execution_count": null,
   "metadata": {},
   "outputs": [],
   "source": [
    "from plotly.subplots import make_subplots\n",
    "import plotly.graph_objects as go"
   ]
  },
  {
   "cell_type": "code",
   "execution_count": null,
   "metadata": {},
   "outputs": [],
   "source": [
    "# load Confirmed to filter\n",
    "df_c = pd.read_csv(\n",
    "    \"./COVID-19/csse_covid_19_data/csse_covid_19_time_series/time_series_19-covid-Confirmed.csv\")\n",
    "df_c=df_c.drop(columns=['Lat','Long'])\n",
    "df_c=df_c.groupby('Country/Region').sum()\n",
    "\n",
    "# get only >500\n",
    "last_col=df_c.columns[len(df_c.columns)-1]\n",
    "significant_ones=df_c[df_c[last_col]>500].index\n",
    "\n",
    "# load all files\n",
    "df_suff=['Confirmed','Deaths','Recovered']\n",
    "df_suff_without_confirmed=['Deaths','Recovered']\n",
    "df=pd.DataFrame()\n",
    "for s in df_suff:\n",
    "    d=pd.read_csv(\n",
    "    \"./COVID-19/csse_covid_19_data/csse_covid_19_time_series/time_series_19-covid-\"+s+\".csv\")\n",
    "    d=d.drop(columns=['Lat','Long'])\n",
    "    d=d.groupby('Country/Region').sum()\n",
    "    d['Type']=s\n",
    "    df=df.append(d)\n",
    "# set multiindex\n",
    "df=df.set_index('Type', append=True)"
   ]
  },
  {
   "cell_type": "markdown",
   "metadata": {},
   "source": [
    "### Cumulative Confirmed only"
   ]
  },
  {
   "cell_type": "code",
   "execution_count": null,
   "metadata": {},
   "outputs": [],
   "source": [
    "fig = go.Figure()\n",
    "for l in significant_ones:\n",
    "    if l!='Mainland China' and l!='Others':\n",
    "        fig.add_trace(\n",
    "            go.Scatter(\n",
    "                x=df.columns, \n",
    "                y=df_c[df_c.index==l].iloc[0],\n",
    "                name=l,\n",
    "                mode='lines+markers'\n",
    "            )\n",
    "        )\n",
    "fig.update_layout(xaxis_rangeslider_visible=True)\n",
    "fig.show()"
   ]
  },
  {
   "cell_type": "code",
   "execution_count": null,
   "metadata": {},
   "outputs": [],
   "source": [
    "def plotCounties(title, f): \n",
    "    plt_size=len(significant_ones)\n",
    "    for i in range(1,plt_size): \n",
    "        country=significant_ones[i]\n",
    "        fig = go.Figure()\n",
    "        for t in df_suff:\n",
    "            f(df, fig, i, t, country)\n",
    "        fig.update_layout(title_text=country)\n",
    "        fig.show()"
   ]
  },
  {
   "cell_type": "markdown",
   "metadata": {},
   "source": [
    "### Cumulative"
   ]
  },
  {
   "cell_type": "code",
   "execution_count": null,
   "metadata": {},
   "outputs": [],
   "source": [
    "def p_cum(df, fig, i, t, country):\n",
    "    fig.add_trace(\n",
    "        go.Scatter(\n",
    "            x=df.columns, \n",
    "            y=df[\n",
    "                (df.index.get_level_values('Type')==t) & \n",
    "                (df.index.get_level_values('Country/Region')==country)\n",
    "            ].iloc[0],\n",
    "            name=t,\n",
    "            mode='lines+markers'\n",
    "        )\n",
    "    )\n",
    "    \n",
    "plotCounties('Cumulative', p_cum)"
   ]
  },
  {
   "cell_type": "markdown",
   "metadata": {},
   "source": [
    "### Daily"
   ]
  },
  {
   "cell_type": "code",
   "execution_count": null,
   "metadata": {},
   "outputs": [],
   "source": [
    "def p_daily(df, fig, i, t, country):\n",
    "    data=df[\n",
    "        (df.index.get_level_values('Type')==t) & \n",
    "        (df.index.get_level_values('Country/Region')==country)].iloc[0]\n",
    "    fig.add_trace(\n",
    "        go.Scatter(\n",
    "            x=df.columns, \n",
    "            y=data-data.shift(1),\n",
    "            name=t,\n",
    "            mode='lines+markers'\n",
    "        )\n",
    "    )\n",
    "    \n",
    "plotCounties('Daily', p_daily)"
   ]
  },
  {
   "cell_type": "markdown",
   "metadata": {},
   "source": [
    "### Daily as percentage of Confirmed"
   ]
  },
  {
   "cell_type": "code",
   "execution_count": null,
   "metadata": {},
   "outputs": [],
   "source": [
    "def p_ppcc(df, fig, i, t, country):\n",
    "    data_confirmed=df[\n",
    "        (df.index.get_level_values('Type')=='Confirmed') & \n",
    "        (df.index.get_level_values('Country/Region')==country)].iloc[0]\n",
    "    data=df[\n",
    "        (df.index.get_level_values('Type')==t) & \n",
    "        (df.index.get_level_values('Country/Region')==country)].iloc[0]\n",
    "    data_delta=data-data.shift(1)\n",
    "    fig.add_trace(\n",
    "        go.Scatter(\n",
    "            x=df.columns, \n",
    "            y=data_delta/data_confirmed,\n",
    "            name=t,\n",
    "            mode='lines+markers'\n",
    "        )\n",
    "    )\n",
    "    \n",
    "plotCounties('Daily as percentage of Confirmed', p_ppcc)"
   ]
  }
 ],
 "metadata": {
  "kernelspec": {
   "display_name": "Python 3",
   "language": "python",
   "name": "python3"
  },
  "language_info": {
   "codemirror_mode": {
    "name": "ipython",
    "version": 3
   },
   "file_extension": ".py",
   "mimetype": "text/x-python",
   "name": "python",
   "nbconvert_exporter": "python",
   "pygments_lexer": "ipython3",
   "version": "3.7.6"
  }
 },
 "nbformat": 4,
 "nbformat_minor": 4
}
