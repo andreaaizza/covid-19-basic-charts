{
 "cells": [
  {
   "cell_type": "markdown",
   "metadata": {},
   "source": [
    "## Some charts about COVID-19 \n",
    "Provided daily via Telegram channel: https://t.me/covid19charts. You can subscribe and receive automatic updates."
   ]
  },
  {
   "cell_type": "markdown",
   "metadata": {},
   "source": [
    "Some basics charts about COVID-19 from https://github.com/CSSEGISandData/COVID-19.git\n",
    "**Cumulative, daily and percentage** charts on **Region/Country** with more than **500 Confirmed**. "
   ]
  },
  {
   "cell_type": "markdown",
   "metadata": {},
   "source": [
    "Code available at https://github.com/andreaaizza/covid-19-basic-charts"
   ]
  },
  {
   "cell_type": "code",
   "execution_count": null,
   "metadata": {},
   "outputs": [],
   "source": [
    "import pandas as pd\n",
    "from plotly.subplots import make_subplots\n",
    "import plotly.graph_objects as go"
   ]
  },
  {
   "cell_type": "code",
   "execution_count": null,
   "metadata": {},
   "outputs": [],
   "source": [
    "def load_file(f):\n",
    "    # load\n",
    "    df = pd.read_csv(f)\n",
    "    df=df.drop(columns=['Lat','Long'])\n",
    "    \n",
    "    # 'Location' index (sum()) as joint 'Country/Region','Province/State'\n",
    "    df.loc[df['Province/State'].isna(),'Location']=df.loc[\n",
    "        df['Province/State'].isna(),'Country/Region']\n",
    "    df.loc[~df['Province/State'].isna(),'Location']=df.loc[\n",
    "        ~df['Province/State'].isna(),'Country/Region'] + ' - ' + df.loc[\n",
    "        ~df['Province/State'].isna(),'Province/State']\n",
    "    return df.groupby('Location').sum()\n",
    "\n",
    "# select significant_ones\n",
    "df=load_file(\"./COVID-19/csse_covid_19_data/csse_covid_19_time_series/time_series_covid19_confirmed_global.csv\")\n",
    "# get only >500\n",
    "df=df.sort_values(df.columns[len(df.columns)-1], ascending=False)\n",
    "last_col=df.columns[len(df.columns)-1]\n",
    "significant_ones=df[df[last_col]>1000].index\n",
    "\n",
    "# load all files\n",
    "df_suff=['confirmed','deaths','recovered']\n",
    "df_suff_without_confirmed=['Deaths','Recovered']\n",
    "df=pd.DataFrame()\n",
    "for s in df_suff:\n",
    "    d=load_file(\"./COVID-19/csse_covid_19_data/csse_covid_19_time_series/time_series_covid19_\"+s+\"_global.csv\")\n",
    "    d['Type']=s\n",
    "    df=df.append(d)\n",
    "# set multiindex\n",
    "df=df.set_index('Type', append=True)"
   ]
  },
  {
   "cell_type": "markdown",
   "metadata": {},
   "source": [
    "### Cumulative Confirmed only"
   ]
  },
  {
   "cell_type": "code",
   "execution_count": null,
   "metadata": {},
   "outputs": [],
   "source": [
    "fig = go.Figure()\n",
    "for loc in significant_ones:\n",
    "    fig.add_trace(\n",
    "        go.Scatter(\n",
    "            x=df.columns, \n",
    "            y=df[\n",
    "                (df.index.get_level_values('Type')=='confirmed') & \n",
    "                (df.index.get_level_values('Location')==loc)\n",
    "                ].iloc[0],\n",
    "            name=loc,\n",
    "            mode='lines+markers'\n",
    "        )\n",
    "    )\n",
    "fig.update_layout(xaxis_rangeslider_visible=True)\n",
    "fig.show()"
   ]
  },
  {
   "cell_type": "code",
   "execution_count": null,
   "metadata": {},
   "outputs": [],
   "source": [
    "def plotCounties(f): \n",
    "    plt_size=len(significant_ones)\n",
    "    for i in range(0,plt_size): \n",
    "        country=significant_ones[i]\n",
    "        f(df, i, country)"
   ]
  },
  {
   "cell_type": "markdown",
   "metadata": {},
   "source": [
    "### Per country"
   ]
  },
  {
   "cell_type": "code",
   "execution_count": null,
   "metadata": {},
   "outputs": [],
   "source": [
    "def p_cum(df, i, loc):\n",
    "    try:       \n",
    "        fig = go.Figure()\n",
    "        for t in df_suff:\n",
    "            d=df[\n",
    "                (df.index.get_level_values('Type')==t) & \n",
    "                (df.index.get_level_values('Location')==loc)\n",
    "                ]\n",
    "            if len(d)>0:\n",
    "                fig.add_trace(\n",
    "                    go.Scatter(\n",
    "                        x=df.columns, \n",
    "                        y=d.iloc[0],\n",
    "                        name=t,\n",
    "                        mode='lines+markers'\n",
    "                    )\n",
    "                )\n",
    "        fig.update_layout(title_text=loc+' - Cumulative')\n",
    "        fig.show()\n",
    "\n",
    "        fig = go.Figure()\n",
    "        for t in df_suff:\n",
    "            d=df[\n",
    "                (df.index.get_level_values('Type')==t) & \n",
    "                (df.index.get_level_values('Location')==loc)\n",
    "                ]\n",
    "            if len(d)>0:\n",
    "                fig.add_trace(\n",
    "                    go.Scatter(\n",
    "                        x=df.columns, \n",
    "                        y=d.iloc[0]-d.iloc[0].shift(1),\n",
    "                        name=t,\n",
    "                        mode='lines+markers'\n",
    "                    )\n",
    "                )\n",
    "        fig.update_layout(title_text=loc+' - Daily')\n",
    "        fig.show()\n",
    "        \n",
    "    except:\n",
    "        print(\"Cannot chart\")\n",
    "    \n",
    "plotCounties(p_cum)"
   ]
  }
 ],
 "metadata": {
  "kernelspec": {
   "display_name": "Python 3",
   "language": "python",
   "name": "python3"
  },
  "language_info": {
   "codemirror_mode": {
    "name": "ipython",
    "version": 3
   },
   "file_extension": ".py",
   "mimetype": "text/x-python",
   "name": "python",
   "nbconvert_exporter": "python",
   "pygments_lexer": "ipython3",
   "version": "3.7.6"
  }
 },
 "nbformat": 4,
 "nbformat_minor": 4
}
